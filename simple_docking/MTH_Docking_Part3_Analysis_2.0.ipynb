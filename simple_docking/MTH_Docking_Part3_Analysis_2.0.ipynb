{
 "cells": [
  {
   "cell_type": "markdown",
   "metadata": {},
   "source": [
    "# **The Molecular Treasure Hunt: Part 3: Understanding the meaning of your docking scores**"
   ]
  },
  {
   "cell_type": "markdown",
   "metadata": {},
   "source": [
    "*An &#8491;ngstrom sized adventure by Sarah Harris (Leeds Physics) and Geoff Wells (UCL Pharmacy)*"
   ]
  },
  {
   "cell_type": "markdown",
   "metadata": {},
   "source": [
    "\"*Space is big. You just won't believe how vastly, hugely, mind-bogglingly big it is.”* Douglas Adams, The Hitchhiker's Guide to the Galaxy."
   ]
  },
  {
   "cell_type": "markdown",
   "metadata": {},
   "source": [
    "# Introduction\n",
    "In Part 2 of your treasure hunt, you obtained poses for your ligand library against a selection of protein conformers. This is a huge amount of data, and to make any sense of it we need to make decisions about which are the \"best\" hits. This is currently a somewhat subjective (and flawed) process, and is the subject of international docking competitions in which research groups attempt to predict experimentally determined protein-ligand complexes, and their affinities (see https://www.capri-docking.org/)."
   ]
  },
  {
   "cell_type": "markdown",
   "metadata": {},
   "source": [
    "# What Part 3 will reveal to you!\n",
    "You will probably find that you have far too much information to analyse visually. In this part we process and manipulate our results, to take us closer to the heart of our quest!!"
   ]
  },
  {
   "cell_type": "markdown",
   "metadata": {},
   "source": [
    "## A few things to think about before we start...\n",
    "\n",
    "## Drug design considerations\n",
    "In drug design programmes, \"fragment hits\" typically have high $\\mu M$ to low $m M$ $K_{i}$ values, where the $K_{i}$ is the equilibrium dissociation constant for the ligand, and represents the probability that the ligand is bound or unbound at a given concentration:\n",
    "\n",
    "\\begin{equation*}\n",
    "K_{i}   = \\frac{[L][P]}{[LP]}\n",
    "\\end{equation*}\n",
    "\n",
    "where [L] is the concentration of the ligand, [P] is the concentration of the protein and [LP] is the concentration of the ligand-protein complex.\n",
    "\n",
    "Fragment hits then need to undergo further chemical refinement to produce a putative drug (e.g. via fragment growth or linking).\n",
    "\n",
    "\"Hit\" compounds tend to be larger molecules that we consider promising and worthy of further structure-activity relationship studies. For these, we might expect $K_{i}$ values in the low $\\mu M$ range. Further along the development pipeline, we have \"lead\" compounds, which may progress to preclinical development. We may expect $K_{i}$ values in the low $n M$ range for these molecules (depending on the target and its tractability).\n",
    "\n",
    "How close do we get in our virtual study???\n",
    "\n",
    "## Why thermodynamics matters\n",
    "One of the major uncertainties is how we interpret our docking scores in terms of a dissociation constant between the protein and the ligand. This is due to the difficulty in calculating thermodynamic properties (which are ensemble averages over around Avogadro's number of molecular entities) from single snapshots obtained by a dock. Moreover, there are additional complications such as induced fit of the receptor, environmental conditions (e.g. salt concentration) and interactions with water. The problem is that what we need for affinity is **free energy**, whereas what we can calculate from a single static protein structure is just the **energy** because the **entropy** term is missing when we don't include all possible protein, ligand and solvent conformations. This is currently impossible to compute. \n",
    "\n",
    "If you find this difficult to understand, you are not alone, and this issue is one of the concepts we explore in our treasure hunt when we consider multiple protein receptor conformations. Vina_BE is in the units of KCal/mol (http://autodock.scripps.edu/faqs-help/faq/how-autodock-4-converts-binding-energy-kcal-mol-into-ki). \n",
    "\n",
    "To convert from Vina_BE to an estimate of the ligand dissociation constant ($K_{i}$), that we call Vina_Ki in this notebook, we use the following equation:\n",
    "\n",
    "\n",
    "\\begin{equation*}\n",
    "K_{i}   = e^{\\Delta G/RT}\n",
    "\\end{equation*}\n",
    "\n",
    "Here we interpret $\\Delta$G as being equivalent to the Vina_BE, R is the ideal gas constant and T is the temperature. We need the temperature to be in Kelvin (K) and R to be in Kcal/mol/K. Because the $K_{i}$ is a function of the free energy, $\\Delta$G, it tells us about probabilities. For example, a dissociation constant ($K_{i}$) of $10^{-3} M$ means that for each unbound ligand, 1000 are bound to the protein. Conversely, a dissociation constant of $10^{3} M$ means that for each 1000 unbound ligand molecules only one is bound to the protein receptor. Note that below we quote Vina_Ki values in $\\mu M$ because ligand $K_{i}$ values often span the $m M$ to $n M$ range of concentrations.\n",
    "\n",
    "It would also be possible to consider the association constant ($K_{a}$) where:\n",
    "\n",
    "\\begin{equation*}\n",
    "K_{a}   = \\frac{1}{K_{i}}\n",
    "\\end{equation*}\n",
    "\n",
    "Which of course, from thermodynamics, implies that:\n",
    "\n",
    "\\begin{equation*}\n",
    "K_{a}   = e^{-\\Delta G/RT}\n",
    "\\end{equation*}\n",
    "\n",
    "**Generally, all docking scores should be viewed as a rank, rather than a prediction of binding free energy.**\n",
    "\n",
    "**A note on experimental binding assays**: IC$_{50}$ values (the ligand concentration producing a 50% change in an assay) are more prevalent than $K_{i}$ values in the literature because they can be measured in high-throughput experiments, sometimes using liquid handling robotics. An important distinction between $K_{i}$ and IC$_{50}$ is that the latter are assay dependent and affected by, for example, the concentration of the protein and ligand. While equilibrium dissociation constants ($K_{d}$) can be determined using direct binding techniques such as isothermal titration calorimetry, microscale thermophoresis or surface plasmon resonance methods, these methods can be lower throughput and more time consuming."
   ]
  },
  {
   "cell_type": "code",
   "execution_count": null,
   "metadata": {},
   "outputs": [],
   "source": [
    "#This imports the python modules that we need for the notebook...\n",
    "import math\n",
    "import numpy as np\n",
    "import pandas as pd\n",
    "import matplotlib.pyplot as plt\n",
    "import mpl_toolkits\n",
    "from mpl_toolkits.mplot3d import Axes3D\n",
    "from glob import glob\n",
    "import seaborn as sns\n",
    "import scipy.cluster.hierarchy as shc"
   ]
  },
  {
   "cell_type": "code",
   "execution_count": null,
   "metadata": {},
   "outputs": [],
   "source": [
    "#This function extracts the docking and properties info from the various results files in our directory\n",
    "def extract_docking_results_from_mol2(filename):\n",
    "    \n",
    "    DockedFilePath = filename\n",
    "    DockedFilePrefix = DockedFilePath.split(\".\")[0]\n",
    "    DockedFile = DockedFilePrefix.split(\"VinaResults_\")[1]\n",
    "    Protein_conf = []\n",
    "    Name = []\n",
    "    Vina_BE = []\n",
    "    MW = []\n",
    "    clogP = []\n",
    "    nonHatoms = []\n",
    "    Vina_LE = []\n",
    "    Vina_LipE = []\n",
    "    Vina_Ki = []\n",
    "    CC = []\n",
    "    HydroC = []\n",
    "    HBonds = []\n",
    "    SaltB = []\n",
    "    PiPi_Par = []\n",
    "    PiPi_Perp = []\n",
    "    Pi_Cat = []\n",
    "    HalB = []\n",
    "\n",
    "    with open(DockedFilePath, 'r') as f:\n",
    "        for line in f:\n",
    "            if line.startswith(\"########## Name:\"):\n",
    "                Name.append(str(line.split()[2]))\n",
    "                Protein_conf.append(DockedFile)  \n",
    "            if line.startswith(\"########## Vina_BE:\"):\n",
    "                if float(line.split()[2])<0:\n",
    "                    Vina_BE.append(float(line.split()[2]))\n",
    "                    #Here the gas constant R is in the units Kcal/mol/K and the temperature is 300 K \n",
    "                    #Ki (the inhibitor dissociation constant) is in micromolar units\n",
    "                    Vina_Ki.append((math.exp((float(line.split()[2]))/(0.001987*300))*1000000))\n",
    "                else:\n",
    "                    #Here we set the Vina_BE and Vina_Ki to 0 if the values are greater than 0 (which may be an indication that the compound does not fit in the binding site and/or grid box)\n",
    "                    #You should look out for these zero values in your graphs!\n",
    "                    Vina_BE.append(0)\n",
    "                    Vina_Ki.append(0)\n",
    "                \n",
    "                    \n",
    "                    \n",
    "            if line.startswith(\"########## MW:\"):\n",
    "                MW.append(float(line.split()[2]))\n",
    "            if line.startswith(\"########## clogP:\"):\n",
    "                clogP.append(float(line.split()[2]))\n",
    "            if line.startswith(\"########## nonHatoms:\"):\n",
    "                nonHatoms.append(int(line.split()[2]))\n",
    "            if line.startswith(\"########## Vina_LE:\"):\n",
    "                Vina_LE.append(float(line.split()[2]))\n",
    "            if line.startswith(\"########## Vina_LipE:\"):\n",
    "                Vina_LipE.append(float(line.split()[2]))\n",
    "            if line.startswith(\"########## Close_contacts:\"):\n",
    "                CC.append(int(line.split()[2]))\n",
    "            if line.startswith(\"########## Hydrophob_contacts:\"):\n",
    "                HydroC.append(int(line.split()[2]))\n",
    "            if line.startswith(\"########## HBonds:\"):\n",
    "                HBonds.append(int(line.split()[2]))\n",
    "            if line.startswith(\"########## Salt_Bridges:\"):\n",
    "                SaltB.append(int(line.split()[2]))\n",
    "            if line.startswith(\"########## Pi-Pi_Parallel:\"):\n",
    "                PiPi_Par.append(int(line.split()[2]))\n",
    "            if line.startswith(\"########## Pi-Pi_Perpendicular:\"):\n",
    "                PiPi_Perp.append(int(line.split()[2]))\n",
    "            if line.startswith(\"########## Pi-Cation:\"):\n",
    "                Pi_Cat.append(int(line.split()[2]))\n",
    "            if line.startswith(\"########## Halogen_Bonds:\"):\n",
    "                HalB.append(int(line.split()[2]))\n",
    "            \n",
    "    \n",
    "    #The units of Vina_BE are kcal/mol. R = 1.987 cal/mol/K.\n",
    "    df = pd.DataFrame(list(zip(Protein_conf, \n",
    "                               Name, \n",
    "                               Vina_BE, \n",
    "                               Vina_Ki, \n",
    "                               MW, \n",
    "                               nonHatoms, \n",
    "                               clogP, \n",
    "                               Vina_LE, \n",
    "                               Vina_LipE, \n",
    "                               CC, \n",
    "                               HydroC, \n",
    "                               HBonds, \n",
    "                               SaltB, \n",
    "                               PiPi_Par, \n",
    "                               PiPi_Perp, \n",
    "                               Pi_Cat, \n",
    "                               HalB)), \n",
    "                   columns =['Protein_Conf', \n",
    "                             'Ligand_Name', \n",
    "                             'Vina_BE', \n",
    "                             'Vina_Ki', \n",
    "                             'MW', \n",
    "                             'nonHatoms', \n",
    "                             'clogP', \n",
    "                             'Vina_LE', \n",
    "                             'Vina_LipE', \n",
    "                             'Close_Contacts', \n",
    "                             'Hphob_Contacts', \n",
    "                             'HBonds', \n",
    "                             'Salt_Bridges', \n",
    "                             'Pi-Pi_Par', \n",
    "                             'Pi-Pi_Perp', \n",
    "                             'Pi-Cation', \n",
    "                             'Hal_Bonds'])\n",
    "            \n",
    "    return(df)\n",
    "    f.close()"
   ]
  },
  {
   "cell_type": "markdown",
   "metadata": {},
   "source": [
    "# Creating 'pandas dataframes' from our docking data\n",
    "Here we are going to read in the results from our results folder, and process them to produce a special python object called a **pandas dataframe**. This python data structure effectively represents your data in a table, which then helps us to extract the information we need and to make plots of our data."
   ]
  },
  {
   "cell_type": "code",
   "execution_count": null,
   "metadata": {},
   "outputs": [],
   "source": [
    "# This defines our receptor structures (all of these files happen to have the same prefix, the starting structure (xal structure) is xxx_00.pdb)\n",
    "path_results_filenames = glob('MTH_Results/VinaResults_*.mol2')\n",
    "path_results_filenames.sort()\n",
    "dataframes_list = []\n",
    "for path_results_filename in path_results_filenames:\n",
    "    df_out = extract_docking_results_from_mol2(path_results_filename)\n",
    "    dataframes_list.append(df_out)\n",
    "total_dataframes = pd.concat(dataframes_list, ignore_index=True)    "
   ]
  },
  {
   "cell_type": "markdown",
   "metadata": {},
   "source": [
    "Here we take a look at the Pandas dataframe - it looks neat and it is easy to understand, but it is large. The aim of this stage is to visualise and understand what you have discovered."
   ]
  },
  {
   "cell_type": "code",
   "execution_count": null,
   "metadata": {},
   "outputs": [],
   "source": [
    "#Save the data frame in a csv file format\n",
    "total_dataframes.to_csv('rescored_docking_results.csv', index=False)"
   ]
  },
  {
   "cell_type": "code",
   "execution_count": null,
   "metadata": {
    "scrolled": true
   },
   "outputs": [],
   "source": [
    "#This lists all of our results...\n",
    "total_dataframes"
   ]
  },
  {
   "cell_type": "markdown",
   "metadata": {},
   "source": [
    "# Plotting our data and saving our graphs\n",
    "Now we try to understand our docking results by plotting some summary graphs and charts. This is important, because it is impossible to know how we should best choose hits unless we first assess the trends across the whole data set. Notice that we consider data distributions in our treasure hunt more often than averages.\n",
    "\n",
    "In the first example we save the graphical output as a picture file that you can use in presentations and reports. There is a line in the code: \"plt.savefig('Vina_BE_vs_compounds.png')\" that you can paste into other cells in the notebook if you want to save the chart or graph. Remember to change the file name to something relevant to your output!\n",
    "\n",
    "## Looking at the whole dataset\n",
    "First we will look at the Vina_BE for each ligand, across each of the protein conformers. Having around 2000 ligands means that this graph is very busy. We concluded this this representation of our data wasn't very informative."
   ]
  },
  {
   "cell_type": "code",
   "execution_count": null,
   "metadata": {},
   "outputs": [],
   "source": [
    "#We are plotting binding energy for each ligand: each point represents one ligand and one protein conformation.\n",
    "plt.figure(figsize=(16,12), dpi= 80)\n",
    "plt.plot(total_dataframes.index, total_dataframes.Vina_BE, 'o', color='black');\n",
    "plt.title('Vina_BE (in KCal/mol) for each ligand', fontsize=22)\n",
    "plt.xticks(fontsize=12, rotation=90)\n",
    "plt.xlabel('Ligand Index', fontsize=12)\n",
    "plt.ylabel('Vina_BE (KCal/mol)', fontsize=12)\n",
    "plt.yticks(fontsize=12)\n",
    "#The next line saves this graph as a png file in the current folder\n",
    "plt.savefig('Vina_BE_vs_compounds.png')\n",
    "plt.show()"
   ]
  },
  {
   "cell_type": "markdown",
   "metadata": {},
   "source": [
    "## Looking at distributions\n",
    "As we have so much data, it is probably best to take a look at distributions, rather than the actual values (as we tried above). Here we plot:\n",
    "- Vina_BE (KCal/mol)\n",
    "- Number of hydrogen bonds formed between the protein and the ligand\n",
    "- Number of hydrophobic contacts between the protein and the ligand \n",
    "\n",
    "If you see a lot of Vina_BE values close to 0 KCal/mol it may tell you that your grid box is too small and the ligands are protruding from the box!"
   ]
  },
  {
   "cell_type": "code",
   "execution_count": null,
   "metadata": {},
   "outputs": [],
   "source": [
    "#A series of histograms to tell us about the distributions of our docking results...\n",
    "total_dataframes.hist('Vina_BE', bins=20)\n",
    "total_dataframes.hist('HBonds', bins=10)\n",
    "total_dataframes.hist('Hphob_Contacts', bins=10)"
   ]
  },
  {
   "cell_type": "markdown",
   "metadata": {},
   "source": [
    "We can use our special pandas dataframe to sort the results by Vina_BE, putting the lowest (e.g. most favourable) energy first. We can the visualise this version of our dataframe that is \"sorted by Vina_BE\" to check we understand what we are plotting (this may not be included in the pdf version)."
   ]
  },
  {
   "cell_type": "code",
   "execution_count": null,
   "metadata": {},
   "outputs": [],
   "source": [
    "sort_by_BE = total_dataframes.sort_values('Vina_BE')\n",
    "sort_by_BE"
   ]
  },
  {
   "cell_type": "markdown",
   "metadata": {},
   "source": [
    "## We always see this 'S'-shaped profile!\n",
    "We can now produce a ranked (waterfall) plot of the Vina_BE vs compound (shown as index in the plot for clarity). We have observed that this has a very characteristic \"S\" shape for all ligand libraries and protein receptors we have tried so far. We think that the best \"hits\" can only be those in the first steep region of the curve, because in the shallow region a small change in binding energy (e.g. Vina_BE in KCal/mol) produces a large change in rank for the compound."
   ]
  },
  {
   "cell_type": "code",
   "execution_count": null,
   "metadata": {},
   "outputs": [],
   "source": [
    "sort_by_BE.reset_index(drop=True, inplace=True)\n",
    "sort_by_BE.reset_index().plot(kind='scatter', x='index', y='Vina_BE', s=10)"
   ]
  },
  {
   "cell_type": "markdown",
   "metadata": {},
   "source": [
    "Here we plot the Vina_BE as a function of molecular weight (and the points are coloured by the clogP value, that estimates the lipophilicity of the ligand).\n",
    "\n",
    "You might expect to see that larger ligands have lower (better) Vina_BE scores because they can form more contacts with the protein.  *However*, these compounds may also be less *efficient* and have a lower binding energy per unit size (this is measured in the Vina_LE score, which is the Vina_BE divided by the number of non-hydrogen atoms).\n",
    "\n",
    "These trends might be more obvious for compound libraries that span a large range of molecular weights e.g. the FDA approved drug library."
   ]
  },
  {
   "cell_type": "code",
   "execution_count": null,
   "metadata": {},
   "outputs": [],
   "source": [
    "plt.figure(figsize=(10,8), dpi= 80)\n",
    "plt.title('Vina_BE (in KCal/mol) as a function of molecular weight MW (g/mol)', fontsize=14)\n",
    "sns.scatterplot(data=sort_by_BE, x='MW', y='Vina_BE', hue='clogP', s=10, edgecolor=\"black\", linewidth=0.1)"
   ]
  },
  {
   "cell_type": "markdown",
   "metadata": {},
   "source": [
    "## Looking at correlations\n",
    "This next plot shows correlations in the numerical variables in the docking dataset.\n",
    "\n",
    "Can you see any interesting correlations, or are there variables that are not as correlated as you might have hoped? Can you explain the correlations that you see?\n",
    "\n",
    "Sometimes you can see blank rows and columns if there are no data to correlate (e.g. if none of the compounds in the library form a particular type of interaction with the protein)"
   ]
  },
  {
   "cell_type": "code",
   "execution_count": null,
   "metadata": {},
   "outputs": [],
   "source": [
    "independent_variables = total_dataframes.drop(['Protein_Conf', 'Ligand_Name', 'MW', 'Vina_LE', 'Vina_LipE', 'Vina_Ki', 'Pi-Pi_Par', 'Pi-Pi_Perp'], axis=1)\n",
    "plt.figure(figsize=(12,10), dpi= 80)\n",
    "sns.heatmap(independent_variables.corr(), xticklabels=independent_variables.corr().columns, yticklabels=independent_variables.corr().columns, cmap='RdYlGn', center=0, annot=True)\n",
    "plt.title('Correlogram of Docking Variables', fontsize=22)\n",
    "plt.xticks(fontsize=12)\n",
    "plt.yticks(fontsize=12)\n",
    "plt.show()"
   ]
  },
  {
   "cell_type": "markdown",
   "metadata": {},
   "source": [
    "## Observing the importance of dynamics and protein conformation\n",
    "The next very informative plot is a version of our 'waterfall' plot for our ranked compounds, but now seperated so we can see how it depends on the protein receptor conformation.\n",
    "\n",
    "We will see whether some protein conformations are better or worse at binding ligands. This plot is giving us direct information about the importance of dynamics (or other structural variations of the protein) on our docking results."
   ]
  },
  {
   "cell_type": "code",
   "execution_count": null,
   "metadata": {},
   "outputs": [],
   "source": [
    "plt.figure(figsize=(10,8), dpi= 80)\n",
    "sns.scatterplot(data=sort_by_BE, x='Ligand_Name', y='Vina_BE', hue=sort_by_BE.Protein_Conf.tolist(), s=15, linewidth=0.1)"
   ]
  },
  {
   "cell_type": "markdown",
   "metadata": {},
   "source": [
    "## Correlations with physicochemical properties\n",
    "As well as binding \"energies\" (Vina_BE), other properties of ligands are known to be important in molecular recognition. Pharmaceutical intution suggests that for a compound to engage in a molecular recognition event it must form some **hydrogen bonds** (which are distance and angle dependent interactions) or **electrostatic** interactions with the target, otherwise they will not be sufficiently chemically specific to the binding site. \n",
    "\n",
    "We can determine whether H-bonds are important to the Vina_BE, and consider also the other important physicochemical property **clogP**, which is an estimate of the octanol/water partition coefficient (a measure of the lipophilicity of the compound). This is important because how tells you how likely a drug is to cross a cell membrane, which relates to its bioavailability. One of *Lipinski's Rules of 5* is that logP should be no greater than 5 for an orally bioavailable drug. \n",
    "\n",
    "We can sometimes see that relatively non-polar compounds (clogP > 3-4) form few H-bonds in this type of plot, as expected. These trends can be more apparent with compound libraries that span a wide range of clogP values (e.g. the FDA approved drug library)."
   ]
  },
  {
   "cell_type": "code",
   "execution_count": null,
   "metadata": {},
   "outputs": [],
   "source": [
    "plt.figure(figsize=(8,6), dpi= 80)\n",
    "sns.scatterplot(data=sort_by_BE, x='HBonds', y='Vina_BE', hue='clogP')"
   ]
  },
  {
   "cell_type": "markdown",
   "metadata": {},
   "source": [
    "This next series of plots allow us to correlate the various independent properties of our compounds with each other, and to see how this is affected by protein receptor conformation. *Note: we have to remove H-bonds from this analysis because the large number of compounds with no H-bonds affects the distributions.*\n",
    "\n",
    "The plots on the diagonals are histograms showing how the property is distributed for each protein conformation. So physicochemical properties should be the same (clogP, non-hydrogen atoms), but the Vina_BE distribution will change for each protein conformer."
   ]
  },
  {
   "cell_type": "code",
   "execution_count": null,
   "metadata": {},
   "outputs": [],
   "source": [
    "#First drop the columns that contain too many zeros for this type of plot...\n",
    "no_HBonds = total_dataframes.drop(['MW', \n",
    "                                   'Vina_LE',\n",
    "                                   'Vina_LipE',\n",
    "                                   'Vina_Ki', \n",
    "                                   'Close_Contacts', \n",
    "                                   'Hphob_Contacts', \n",
    "                                   'HBonds', \n",
    "                                   'Salt_Bridges', \n",
    "                                   'Pi-Pi_Par', \n",
    "                                   'Pi-Pi_Perp', \n",
    "                                   'Pi-Cation', \n",
    "                                   'Hal_Bonds'], axis=1)\n",
    "plt.figure(figsize=(16,10), dpi= 80)\n",
    "sns.pairplot(no_HBonds, kind=\"scatter\", hue=\"Protein_Conf\", plot_kws=dict(s=10, edgecolor=\"black\", linewidth=0.1))\n",
    "plt.show()"
   ]
  },
  {
   "cell_type": "markdown",
   "metadata": {},
   "source": [
    "## Distributions and protein conformational dynamics\n",
    "We can also use \"violin plots\" to understand the distributions of scored energies for each different protein conformation. Note that the most prestigious scientific journals now insist on graphs that show distributions rather than bar charts, which do not. Why do you think this is so important?\n",
    "\n",
    "Are there any protein conformers that look like outliers, or are they all the same?"
   ]
  },
  {
   "cell_type": "code",
   "execution_count": null,
   "metadata": {},
   "outputs": [],
   "source": [
    "# Draw Violin Plot\n",
    "plt.figure(figsize=(13,10), dpi= 80)\n",
    "sns.violinplot(x='Protein_Conf', y='Vina_BE', data=total_dataframes, density_norm='width', inner='quartile')\n",
    "\n",
    "# Decoration\n",
    "plt.title('Violin Plot of Vina_BE by Protein Conformation', fontsize=22)\n",
    "plt.xticks(fontsize=10, rotation=90)\n",
    "plt.yticks(fontsize=10)\n",
    "plt.show()"
   ]
  },
  {
   "cell_type": "markdown",
   "metadata": {},
   "source": [
    "# Congratulations!!\n",
    "You have completed the third part of your treasure hunt, in the next part we will save your greatest 'hits' and make files that help us to look at the docked conformations and how the ligands are predicted to bind to the protein.\n",
    "\n",
    "\"*Forty-two, said Deep Thought, with infinite majesty and calm.*\" Douglas Adams, The Hitchhiker's Guide to the Galaxy\n",
    "\n",
    "Good luck!!\n",
    "\n",
    "Sarah and Geoff\n",
    "\n",
    "(an \"out-of-offices studios\" $O^{3}S$ production)"
   ]
  }
 ],
 "metadata": {
  "kernelspec": {
   "display_name": "Python 3 (ipykernel)",
   "language": "python",
   "name": "python3"
  },
  "language_info": {
   "codemirror_mode": {
    "name": "ipython",
    "version": 3
   },
   "file_extension": ".py",
   "mimetype": "text/x-python",
   "name": "python",
   "nbconvert_exporter": "python",
   "pygments_lexer": "ipython3",
   "version": "3.10.16"
  }
 },
 "nbformat": 4,
 "nbformat_minor": 4
}
