{
 "cells": [
  {
   "cell_type": "markdown",
   "metadata": {},
   "source": [
    "# **The Molecular Treasure Hunt: Part 2: Docking a ligand library against each of your protein receptors**"
   ]
  },
  {
   "cell_type": "markdown",
   "metadata": {},
   "source": [
    "*An &#8491;ngstrom sized adventure by Sarah Harris (Leeds Physics) and Geoff Wells (UCL Pharmacy)*"
   ]
  },
  {
   "cell_type": "markdown",
   "metadata": {},
   "source": [
    "\"*You cannot pass! I am a servant of the Secret Fire, wielder of the flame of Anor. The dark fire will not avail you, flame of Udûn.*\" J.R.R. Tolkien, The Fellowship of the Ring.\n",
    "\n",
    "This procedure for understanding the amazing phenomenon of molecular recognition between biomolecules has been designed with a strong agenda. We believe that including the effect of biomolecular dynamics is key to improving our ability to make predictions about how biomolecules will interact. We can see these multiple conformational states either using NMR or cryo-EM experiments, or assessing the diversity of X-ray crystal structures, or using theoretical tools such as atomistic molecular dynamics. You will therefore (we hope!!) include a number of protein structures in your \"receptor\" directory.\n",
    "\n",
    "How drugs bind to multiple protein conformations depends upon the underlying physics and chemistry of proteins. In a real biological context (*in vivo*), of course, this will also depend on the environment of the protein - e.g. whether it located in a large complex or in a membrane environment. For molecules to be orally bioavailable drugs, there are more stringent criteria (e.g. Lipinski's rule of 5). \n",
    "\n",
    "Thermal fluctuations (physics) drive conformational changes, but within the constraints imposed by the chemical structure of the proteins and the ligands. The requirement for the drug to reach the target site imposes additional criteria which depend on the physicochemical properties (e.g. clogP). Other considerations, such as the specificity of the compound, its toxicity (related to specificity), synthetic accessibilty (e.g. can a chemist make it) and ease of formulation (e.g. can this be made into a safe and effective medicine, and is it feasible to make large quantities of it) are essential in practise, and can be non-trivial to overcome.   \n",
    "\n",
    "In this part we also take our docking results and do a few further things:\n",
    "- We calculate interactions between the ligands and the protein\n",
    "- We produce some .sdf files that we can use with other chemoinformatics software (e.g. DataWarrior)\n",
    "\n",
    "There are a number of features to protein-ligand interactions that we can quantify and use to identify our 'best' or most promising compounds. Here is a list of the features that we calculate:\n",
    "- Close contacts\n",
    "- Hydrophobic interactions\n",
    "- Hydrogen bonds\n",
    "- Salt bridges\n",
    "- Halogen bonds\n",
    "- Pi-stacking interactions (parallel and perpendicular)\n",
    "- Pi-cation interactions\n",
    "\n",
    "The importance of each of these will depend on the chemistry of your ligands and their interaction with the protein. For example, halogen bonds are only relevant to compounds that contain halogens (F, Cl, Br, I) and salt bridge interactions are only relevant to ligands with charges complementary to the protein within the binding site.\n",
    "\n",
    "Enjoy your Treasure Hunt!! Your search space encompasses the vast possibilities offered by the combinatorics of multiple protein conformations and enormous chemical diversity, particularly if you have embarked on a fragment library dock. Your limits imposed by pharmaceutical requirements though, are stringent, and in many ways unknown. Good luck!!  \n",
    "\n",
    "We start by importing a number of python modules to run our calculations:"
   ]
  },
  {
   "cell_type": "code",
   "execution_count": null,
   "metadata": {},
   "outputs": [],
   "source": [
    "import sys\n",
    "import os\n",
    "import subprocess\n",
    "#Importing glob is important for recursive filename searches - we use this to find all of our protein and ligand files!\n",
    "from glob import glob\n",
    "from pathlib import Path\n",
    "from termcolor import colored\n",
    "import multiprocessing as mp\n",
    "\n",
    "import numpy as np\n",
    "\n",
    "import oddt\n",
    "from oddt.interactions import (close_contacts,\n",
    "                               hbonds,\n",
    "                               distance,\n",
    "                               halogenbonds,\n",
    "                               halogenbond_acceptor_halogen,\n",
    "                               pi_stacking,\n",
    "                               salt_bridges,\n",
    "                               pi_cation,\n",
    "                               hydrophobic_contacts)"
   ]
  },
  {
   "cell_type": "markdown",
   "metadata": {},
   "source": [
    "# Setting your ligand library and the protein receptors for your docking\n",
    "Your parent folder is the directory that contains the various docking folders and your receptor folder. The Jupyter notebooks are opened in each of the docking folders. Your proteins should be located in the \"receptor\" folder. This notebook will dock every single ligand in your chosen compound library against all of the protein structures (e.g. pdb files) that are in the \"receptor\" directory.\n",
    "\n",
    "### Protein and ligand files\n",
    "Before you start your treasure hunt, you must make sure that your proteins are **aligned** to each other, that they are **protonated** correctly and that you are happy with the position of the **grid box** that defines your receptor site for each protein structure. Check this by visualising in Chimera!!\n",
    "Your ligand files need to have 3D coordinates and be saved as individual molecule files in pdbqt format. They should be have hydrogens added and be in the correct ionisation state. The compound libraries provided are a good template for the format and naming conventions of the ligand files."
   ]
  },
  {
   "cell_type": "code",
   "execution_count": null,
   "metadata": {},
   "outputs": [],
   "source": [
    "#This defines our receptor structures (all of these files happen to have the same prefix, the starting structure (xal structure) is xxx_00.pdb)\n",
    "receptor_filenames = glob('../receptor/*.pdb')\n",
    "#This defines where the ligand files are found\n",
    "ligand_filenames = glob('/home/geoff/compounds/FtsZ/pharmit/pocket3/*.pdbqt')\n",
    "\n",
    "#The sort command is *really* important for organising the output in the right order (the protein files are mixed up otherwise)\n",
    "receptor_filenames.sort()\n",
    "print(colored('Receptor filenames', 'blue', attrs=['bold']))\n",
    "print(receptor_filenames)\n",
    "print(\"Number of proteins is\", len(receptor_filenames))\n",
    "\n",
    "ligand_filenames.sort()\n",
    "print(\"Number of ligands is\", len(ligand_filenames))"
   ]
  },
  {
   "cell_type": "markdown",
   "metadata": {},
   "source": [
    "### Number of processors and number of docking steps per processor\n",
    "This tells us about how many processors we have available (or lets us set that number) and helps us to get an estimate of how long the this step of the Molecular Treasure Hunt will take to run. Larger molecules are slower to dock (e.g the FDA library compared to fragment libraries) because they have more rotatable bonds. But the number of docking steps per cpu will give a rough guide to how long the docking will take."
   ]
  },
  {
   "cell_type": "code",
   "execution_count": null,
   "metadata": {},
   "outputs": [],
   "source": [
    "num_cpu = mp.cpu_count()\n",
    "print(\"Number of processors:\", num_cpu)\n",
    "#If necessary we can set the number of processors to be less than the mp.cpu_count()\n",
    "#by commenting out the top line (by adding a # at the start of the line)\n",
    "#and uncommenting the line below (by removing the # from the line) using a number you chose.\n",
    "#only one of the two lines (EITHER the top or the bottom one) should be uncommented.\n",
    "#num_cpu = 4\n",
    "\n",
    "docking_steps = len(ligand_filenames) * len(receptor_filenames)\n",
    "print(\"Number of individual docking_steps is\", docking_steps)\n",
    "docking_steps_per_cpu = round((docking_steps / num_cpu), 2)\n",
    "print(\"Number of docking steps per cpu is \", docking_steps_per_cpu)"
   ]
  },
  {
   "cell_type": "markdown",
   "metadata": {},
   "source": [
    "### Results folder location\n",
    "Here we create a folder to store the results in - you can change the name of this, although it is best not to! (do not use spaces or puctuation other than underscores or hypens in your file name)!"
   ]
  },
  {
   "cell_type": "code",
   "execution_count": null,
   "metadata": {
    "scrolled": true
   },
   "outputs": [],
   "source": [
    "Results_Folder = 'MTH_Results'\n",
    "rf = Path(Results_Folder)\n",
    "try:\n",
    "    rf.mkdir()\n",
    "except FileExistsError as exc:\n",
    "    print(colored('The results folder is already present - check that it is empty before starting!', 'blue',  attrs=['bold']))"
   ]
  },
  {
   "cell_type": "markdown",
   "metadata": {},
   "source": [
    "## Making the protein files that we need for the docking calculations\n",
    "### Preparing the protein .pdbqt files\n",
    "The structures that we start with and align are .pdb files - these contain information on the atoms that are in the protein, the residue names and the x, y and z coordinates of each atom. For the docking calculations a modified version of the .pdb file is necessary that contains additional atom charge (q) and atom type (t) information - this is called a .pdbqt file. **Note**: the .pdbqt files do not contain non-polar hydrogens (this is a requirement for Autodock Vina-based docking calculations).\n",
    "\n",
    "The next piece of code generates a .pdbqt file for each of your protein .pdb files. As long as your proteins don't contain very weird atoms or residues, this should work!!"
   ]
  },
  {
   "cell_type": "code",
   "execution_count": null,
   "metadata": {},
   "outputs": [],
   "source": [
    "#Let's use oddt to make the pdbqt files that we need...\n",
    "print(colored('Making pdbqt files', 'blue', attrs=['bold']))\n",
    "for receptor_filename in receptor_filenames:\n",
    "    receptor_prefix = receptor_filename.split(\".\")[2]\n",
    "    receptor_name = receptor_prefix.split(\"/\")[2]\n",
    "    receptor_pdbqt_file = '..' + receptor_prefix + '.pdbqt'\n",
    "    print(receptor_name)\n",
    "    rec = next(oddt.toolkit.readfile('pdb', receptor_filename))\n",
    "    rec.write('pdbqt', receptor_pdbqt_file, overwrite=True, opt={'r': None, 'c': None, 'h': None})\n",
    "print(colored('Finished making pdbqt files', 'blue', attrs=['bold']))"
   ]
  },
  {
   "cell_type": "markdown",
   "metadata": {},
   "source": [
    "This defines a procedure for docking a series of ligands to a protein. It's horribly complicated - so only change this if you are feeling python-tastic!!"
   ]
  },
  {
   "cell_type": "code",
   "execution_count": null,
   "metadata": {},
   "outputs": [],
   "source": [
    "def dock_ligands(filename):\n",
    "    #This line removes the filename suffix (.pdbqt)\n",
    "    dock_input = filename.split(\".\")[0]\n",
    "    #This line removes the filename prefix \n",
    "    dock_name = dock_input.split(\"/\")[-1]\n",
    "    vina_receptor = '..' + PDBFile + '.pdbqt'\n",
    "    vina_config = \"../receptor/conf.txt\"\n",
    "    vina_ligand = dock_input + '.pdbqt'\n",
    "    vina_out = dock_name + '_out.pdbqt'\n",
    "    #The next line runs a local docking experiment...\n",
    "    vina_run = subprocess.run([\"vina\", \"--receptor\", vina_receptor, \"--config\", vina_config, \"--ligand\", vina_ligand, \"--out\", vina_out], stdout=subprocess.DEVNULL)\n",
    "    \n",
    "    #The input file for vina \"conf.txt\" contains instructions to only output the top docked pose. However, it is \n",
    "    #also necessary to run the \"vina_split\" command to produce a single ligand conformer, because of the flags that \n",
    "    #are present at the start and end of the pdbqt output file.\n",
    "\n",
    "    try:\n",
    "        vina_split = subprocess.run([\"vina_split\", \"--input\", vina_out], stdout=subprocess.DEVNULL)\n",
    "        \n",
    "        #This extracts the Vina binding energy from the output file and prints it while the docking is running\n",
    "        with open(dock_name + '_out.pdbqt', 'r') as contents:\n",
    "            for line in contents:\n",
    "                if line.startswith(\"REMARK VINA RESULT:\"):\n",
    "                    dock_energy = round(float(line.split()[3]),4)\n",
    "        contents.close()\n",
    "        \n",
    "        #We use oddt to process the results files and calculate interactions between the ligand and protein\n",
    "        top_pose = next(oddt.toolkit.readfile('pdbqt', dock_name + '_out.pdbqt'))\n",
    "        top_pose_out = top_pose.write('mol2')\n",
    "        mol = top_pose\n",
    "        protein = '..' + PDBFile + '.pdb'\n",
    "        rec = next(oddt.toolkit.readfile('pdb', protein))\n",
    "        rec.protein=True\n",
    "        mols = list(oddt.toolkit.readfile('mol2', filename))\n",
    "        nonHatoms = int(len(mol.atoms))\n",
    "        properties = (mol.calcdesc([\"MW\", \"logP\"]))\n",
    "        s=properties.values()\n",
    "        MW = round(float([x for x in s][0]),3)\n",
    "        clogP = round(float([x for x in s][1]),3)\n",
    "        #Then use these properties to calculate some ligand efficiencies\n",
    "        LE = round(float(dock_energy/nonHatoms),3)\n",
    "        LipE = round(float(dock_energy-clogP),3)\n",
    "        #Now use oddt to calculate the interactions\n",
    "        cc_count = int(len(np.asarray(close_contacts(rec.atom_dict[rec.atom_dict['atomicnum'] != 1], mol.atom_dict[mol.atom_dict['atomicnum'] != 1], cutoff=3)[0])))\n",
    "        hbonds_count = int(hbonds(rec, mol, cutoff=3.5, tolerance=30)[2].sum())\n",
    "        pi1, pi2, strict_parallel, strict_perpendicular = pi_stacking(rec, mol, tolerance=30)\n",
    "        pipi_par=str(strict_parallel.sum())\n",
    "        pipi_perp=str(strict_perpendicular.sum())\n",
    "        pi_cation_count = int(len(pi_cation(rec, mol)[2]))\n",
    "        #Need to check whether the pi cation count is reversible or in order...\n",
    "        halogenbonds_count = int(len(halogenbonds(rec, mol)[2]))\n",
    "        salt_bridges_count = int(len(salt_bridges(rec, mol)[0]))\n",
    "        hyd_contacts_count = int(len(hydrophobic_contacts(rec, mol)[0]))\n",
    "        \n",
    "        print(\"Autodock Vina Score =\", dock_energy, \" KCal/mol,\", 'Hydrogen bonds =', hbonds_count)\n",
    "        \n",
    "        #This writes an output file for each ligand\n",
    "        with open(PDBFile_name + \"_\" + dock_name + \".mol2\",'w') as contents:\n",
    "          contents.write(\"########## Name: \" + dock_name + '\\n' + \n",
    "                         \"########## Vina_BE: \" + str(dock_energy) + '\\n' + \n",
    "                         \"########## MW: \" + str(MW) + '\\n' + \n",
    "                         \"########## clogP: \" + str(clogP) + '\\n' + \n",
    "                         \"########## nonHatoms: \" + str(nonHatoms) + '\\n' + \n",
    "                         \"########## Vina_LE: \" + str(LE) + '\\n' + \n",
    "                         \"########## Vina_LipE: \" + str(LipE) + '\\n' + \n",
    "                         \"########## Close_contacts: \" + str(cc_count) + '\\n' + \n",
    "                         \"########## Hydrophob_contacts: \" + str(hyd_contacts_count) + '\\n' + \n",
    "                         \"########## HBonds: \" + str(hbonds_count) + '\\n' + \n",
    "                         \"########## Salt_Bridges: \" + str(salt_bridges_count) + '\\n' + \n",
    "                         \"########## Pi-Pi_Parallel: \" + pipi_par + '\\n' + \n",
    "                         \"########## Pi-Pi_Perpendicular: \" + pipi_perp + '\\n' + \n",
    "                         \"########## Pi-Cation: \" + str(pi_cation_count) + '\\n' + \n",
    "                         \"########## Halogen_Bonds: \" + str(halogenbonds_count) + '\\n' + \n",
    "                        top_pose_out)\n",
    "          contents.close()\n",
    "    except Exception as e:\n",
    "            print(f\"Warning: Skipping vina_split and processing due to an error: {e}\")\n",
    "        \n",
    "    !'/bin/rm' '{dock_name}'_out*"
   ]
  },
  {
   "cell_type": "markdown",
   "metadata": {},
   "source": [
    "Here we are performing the dock. We have the option to dock against multiple protein conformers, because we know that dynamics is important!!\n",
    "You should not need to change this section, unless you want to do something special. "
   ]
  },
  {
   "cell_type": "code",
   "execution_count": null,
   "metadata": {},
   "outputs": [],
   "source": [
    "#This runs a series of docking calculations on protein conformations found in the receptor folder\n",
    "for receptor_filename in receptor_filenames:\n",
    "    PDBFile = receptor_filename.split(\".\")[2]\n",
    "    PDBFile_name = PDBFile.split(\"/\")[2]\n",
    "    print(colored('Docking for protein started', 'blue', attrs=['bold']))\n",
    "    print(PDBFile_name)\n",
    "   \n",
    "    #Here we run the script that executes the docking procedure for our ligand list...\n",
    "    #for ligand_filename in ligand_filenames:\n",
    "    pool = mp.Pool(mp.cpu_count())\n",
    "    pool.map(dock_ligands, [ligand_filename for ligand_filename in ligand_filenames])\n",
    "    pool.close()\n",
    "    print('Docking is complete for:',PDBFile_name)\n",
    "    #This combines our output files together for each protein conformer and deletes the intermediate files\n",
    "    !'/bin/cat' '{PDBFile_name}'*.mol2 >> '{Results_Folder}'/VinaResults_'{PDBFile_name}'.mol2\n",
    "    !'/bin/rm' '{PDBFile_name}'*.mol2\n",
    "\n",
    "print(colored('All of the docking is complete!', 'blue', attrs=['bold']))\n"
   ]
  },
  {
   "cell_type": "markdown",
   "metadata": {},
   "source": [
    "# What to do next\n",
    "Your new Treasure Hunt results are stored in the MTH_Results folder (unless you renamed it). You have a set of .mol2 files and .sdf files for each protein conformer. These have a VinaResults prefix. They contain the docked poses of all of your ligands in your library for each separate protein receptor configuration and the scores, and interactions.\n",
    "\n",
    "You can analyse the data using the next Jupyter notebook, Chimera (for the .mol2 files) and/or DataWarrior (.sdf files) here. \n",
    "## Opening the results in Chimera:\n",
    "- File > Open > Choose the correct protein/receptor .pdb file (you should have these files on your own computer from when you aligned the proteins in Part 1) this will have the same 'number' as the ligand .mol2 file, e.g. if you load in VinaResultsxxx00.mol2 then the protein file would be proteinxxx00.pdb.\n",
    "\n",
    "- Tools > Surface/Binding Analysis > ViewDock > Choose the VinaResultsxxx.mol2 file (the file is a Dock 4,5,6 file type)\n",
    "\n",
    "- This opens a new window. You can select columns to view from the Columns > Show menu and pick the Vina_BE or other scoring/properties lists.\n",
    "\n",
    "- You can scroll through the ligands in the list and examine how they interact with the protein.\n",
    "\n",
    "- The presets menu allows you to view the protein as a surface coloured by hydrophbicity.\n",
    "\n",
    "- The Chimera menus provide a number of other ways to adapt the representation.\n",
    "\n",
    "\n",
    "## Opening the results in DataWarrior:\n",
    "- The .sdf files can be viewed in DataWarrior, where you can explore the chemoinformatics of your results (if that is your thing!!). \n",
    "- You can also visualise the bound conformations with Pymol using these sdf files (but you will need to download and install Pymol to the VirtualBox yourself!)."
   ]
  },
  {
   "cell_type": "markdown",
   "metadata": {},
   "source": [
    "# Congratulations!!!\n",
    "When you have these files you have made a big step on your quest - you are now ready for the next stage - have fun!\n",
    "\n",
    "\"*None shall remember the deeds that are done in the last defence of your homes. Yet the deeds will not be less valiant because they are unpraised.*\" J.R.R. Tolkien, The Return of the King.\n",
    "\n",
    "Sarah and Geoff\n",
    "\n",
    "(an \"out-of-office studios\" $O^{3}S$ production)"
   ]
  }
 ],
 "metadata": {
  "kernelspec": {
   "display_name": "Python 3 (ipykernel)",
   "language": "python",
   "name": "python3"
  },
  "language_info": {
   "codemirror_mode": {
    "name": "ipython",
    "version": 3
   },
   "file_extension": ".py",
   "mimetype": "text/x-python",
   "name": "python",
   "nbconvert_exporter": "python",
   "pygments_lexer": "ipython3",
   "version": "3.10.16"
  }
 },
 "nbformat": 4,
 "nbformat_minor": 4
}
