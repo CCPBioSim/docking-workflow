{
 "cells": [
  {
   "cell_type": "markdown",
   "metadata": {},
   "source": [
    "# **The Molecular Treasure Hunt: Part 3: Calculating properties and rescoring**"
   ]
  },
  {
   "cell_type": "markdown",
   "metadata": {},
   "source": [
    "*An &#8491;ngstrom sized adventure by Sarah Harris (Leeds Physics) and Geoff Wells (UCL Pharmacy)*"
   ]
  },
  {
   "cell_type": "markdown",
   "metadata": {},
   "source": [
    "# Running the Molecular Treasure Hunt!!\n",
    "\n",
    "\"*It is known that there are an infinte number of worlds, simply because there is an infinite amount of space for them to be in. However, not every one of them is inhabited.*\"\n",
    "\n",
    "In this part, we take our docking results from Part 2 and do a few further things:\n",
    "- We calculate interactions between the ligands and the protein\n",
    "- We rescore the protein-ligand interactions\n",
    "- We produce some .sdf files that we can use with other chemoinformatics software (e.g. DataWarrior)\n",
    "\n",
    "We discussed the (re)scoring functions in part pre3, so we will comment mainly on the interactions calculations here. There are a number of features to protein-ligand interactions that we can quantify and use to identify our 'best' or most promising compounds. Here is a list of the features that we calculate:\n",
    "- Close contacts\n",
    "- Hydrophobic interactions\n",
    "- Hydrogen bonds\n",
    "- Salt bridges\n",
    "- Halogen bonds\n",
    "- Pi-stacking interactions (parallel and perpendicular)\n",
    "- Pi-cation interactions\n",
    "\n",
    "The importance of each of these will depend on the chemistry of your ligands and their interaction with the protein. For example, halogen bonds are only relevant to compounds that contain halogens (F, Cl, Br, I) and salt bridge interactions are only relevant to ligands with complementary charges within the binding site.\n",
    "\n",
    "Remember that we do not redock the ligands. Rather, we use three different empirical scoring functions in addition to the Vina Binding Energy to rank the ligands and then assess the docked conformation and determine the interactions made between the ligand and the protein.\n",
    "\n",
    "We start by importing a number of python modules to run our calculations:"
   ]
  },
  {
   "cell_type": "code",
   "execution_count": 1,
   "metadata": {},
   "outputs": [],
   "source": [
    "#Importing glob is important for recursive filename searches - we use this to find all of our protein and ligand files!\n",
    "from glob import glob\n",
    "from pathlib import Path\n",
    "import multiprocessing as mp\n",
    "from types import GeneratorType\n",
    "from sklearn.metrics import r2_score\n",
    "import warnings\n",
    "warnings.filterwarnings(\"ignore\")\n",
    "\n",
    "from termcolor import colored\n",
    "import numpy as np\n",
    "\n",
    "import oddt\n",
    "from oddt.interactions import (close_contacts,\n",
    "                               hbonds,\n",
    "                               distance,\n",
    "                               halogenbonds,\n",
    "                               halogenbond_acceptor_halogen,\n",
    "                               pi_stacking,\n",
    "                               salt_bridges,\n",
    "                               pi_cation,\n",
    "                               hydrophobic_contacts)\n",
    "\n",
    "from oddt.scoring import scorer, ensemble_descriptor, ensemble_model\n",
    "from oddt.scoring.descriptors import (autodock_vina_descriptor,\n",
    "                                      fingerprints,\n",
    "                                      oddt_vina_descriptor)\n",
    "from oddt.scoring.models.classifiers import neuralnetwork\n",
    "from oddt.scoring.models import regressors\n",
    "from oddt.scoring.functions import rfscore, nnscore, PLECscore"
   ]
  },
  {
   "cell_type": "code",
   "execution_count": 6,
   "metadata": {},
   "outputs": [
    {
     "name": "stdout",
     "output_type": "stream",
     "text": [
      "Number of results files is 4\n",
      "\u001b[1m\u001b[32mThe rescored results folder is already present - check that it is empty before starting!\u001b[0m\n",
      "Maximum number of CPUs is 12\n",
      "Number of CPUs in use is 4\n"
     ]
    }
   ],
   "source": [
    "#Location of pickle files for rescoring functions\n",
    "pickle_dir = '/home/geoff/software/docking_rescoring_files/'\n",
    "\n",
    "#This is where the results from the docking are found. You will need to edit this if you changed it in Part 2.\n",
    "results_filenames = glob('MTH_Results/VinaResults_*.mol2')\n",
    "print(\"Number of results files is\", len(results_filenames))\n",
    "\n",
    "#Make a new folder for the rescored results\n",
    "Results_folder = Path('MTH_Results_Rescored')\n",
    "try:\n",
    "    Results_folder.mkdir()\n",
    "except FileExistsError as exc:\n",
    "    print(colored('The rescored results folder is already present - check that it is empty before starting!', 'green',  attrs=['bold']))\n",
    "    \n",
    "#Set the number of processors for rescoring\n",
    "#At the moment this is a serial task, so set the number of processors to either the number of results files\n",
    "#OR the number of processors (which ever is smaller)\n",
    "max_cpu = mp.cpu_count()\n",
    "print('Maximum number of CPUs is', max_cpu)\n",
    "\n",
    "if max_cpu > len(results_filenames):\n",
    "    cpu_use = len(results_filenames)\n",
    "else:\n",
    "    cpu_use = max_cpu\n",
    "num_cpu = cpu_use\n",
    "print('Number of CPUs in use is', num_cpu)"
   ]
  },
  {
   "cell_type": "markdown",
   "metadata": {},
   "source": [
    "We have several rescoring functions available to us (at least 7!). But for now we will only include the RF version 3, NNScore and PLEC_RF versions. It is of course possible to substitute other scoring functions, but this will require you to make changes to the python code and understand how Open Drug Discovery Tools implements the various scoring functions. Any additional scoring functions will also require training (i.e. addition to the prePart3 notebook). We would strongly encourage you to explore these possibilities, or any of the other analysis options that you consider valuable during the Molecular Treasure Hunt!\n",
    "\n",
    "Make sure that the functions have been 'trained' first and that there is a '.pickle' file in your folder for each scoring function - these contain information relating to the trained function..."
   ]
  },
  {
   "cell_type": "code",
   "execution_count": 7,
   "metadata": {},
   "outputs": [],
   "source": [
    "#This function calculates additional interactions between each protein and the docked ligands and rescores them using three alternative scoring methods\n",
    "def rescoring_function(filename):\n",
    "    #Split up the file name into variables that identify the receptor and ligand\n",
    "    PDBFile_path = filename.split(\".\")[0]\n",
    "    PDBFile_name = PDBFile_path.split(\"/\")[1]\n",
    "    PDBFile = PDBFile_name.split(\"VinaResults_\")[1]\n",
    "    protein = 'receptor/' + PDBFile + '.pdb'\n",
    "    print(colored('Protein:' + PDBFile_name + '\\n', 'green', attrs=['bold']))\n",
    "    rec = next(oddt.toolkit.readfile('pdb', protein))\n",
    "    rec.protein=True\n",
    "    mols = list(oddt.toolkit.readfile('mol2', filename))\n",
    "    #The next line (commented out) adds polar hydrogens if required. This may be necessary for some protein pdb files too\n",
    "    #list(map(lambda x: x.addh(only_polar=True), mols))\n",
    "    rescored_out = 'MTH_Results_Rescored/' + PDBFile_name + '_rescored.mol2'\n",
    "    with open(rescored_out, 'w') as contents:\n",
    "        for mol in mols:\n",
    "            #Calculate molecule properties using oddt(Pybel)\n",
    "            nonHatoms = int(len(mol.atoms))\n",
    "            properties = (mol.calcdesc([\"MW\", \"logP\"]))\n",
    "            s=properties.values()\n",
    "            MW = round(float([x for x in s][0]),3)\n",
    "            clogP = round(float([x for x in s][1]),3)\n",
    "            #Then use these properties to calculate some ligand efficiencies\n",
    "            LE = round(float(mol.data['Vina_BE'])/nonHatoms,3)\n",
    "            LipE = round(float(mol.data['Vina_BE'])-clogP,3)\n",
    "            #Now use oddt to calculate the interactions\n",
    "            cc_count = int(np.array([len(close_contacts(rec.atom_dict[rec.atom_dict['atomicnum'] != 1], mol.atom_dict[mol.atom_dict['atomicnum'] != 1], cutoff=3)[0])]))\n",
    "            hbonds_count = int(np.array([hbonds(rec, mol, cutoff=3.5, tolerance=30)[2].sum()]))\n",
    "            pi1, pi2, strict_parallel, strict_perpendicular = pi_stacking(rec, mol, tolerance=30)\n",
    "            pipi_par=str(strict_parallel.sum())\n",
    "            pipi_perp=str(strict_perpendicular.sum())\n",
    "            pi_cation_count = int(np.array([len(pi_cation(rec, mol)[2])]))\n",
    "            #Need to check whether the pi cation count is reversible or in order...\n",
    "            halogenbonds_count = int(np.array([len(halogenbonds(rec, mol)[2])]))\n",
    "            salt_bridges_count = int(np.array([len(salt_bridges(rec, mol)[0])]))\n",
    "            hyd_contacts_count = int(np.array([len(hydrophobic_contacts(rec, mol)[0])]))\n",
    "\n",
    "            #Now we add in the rescoring functions\n",
    "            rf3 = rfscore.load(filename=pickle_dir + 'RFScore_v3_pdbbind2016.pickle', version=3, pdbbind_version=2016)\n",
    "            rf3.set_protein(rec)\n",
    "            rf3.predict_ligand(mol)\n",
    "            nn = nnscore.load(filename=pickle_dir + 'NNScore_pdbbind2016.pickle', pdbbind_version=2016)\n",
    "            nn.set_protein(rec)\n",
    "            nn.predict_ligand(mol)\n",
    "            plec3=PLECscore(version='rf').load(filename=pickle_dir + 'PLECrf_p5_l1_pdbbind2016_s65536.pickle', version='rf', pdbbind_version=2016, depth_protein=5, depth_ligand=1, size=2048)\n",
    "            plec3.set_protein(rec)\n",
    "            plec3.predict_ligand(mol)\n",
    "\n",
    "            #Convert the molecule to an output string\n",
    "            write_out=mol.write('mol2')\n",
    "\n",
    "            #Then append everything to the output file\n",
    "            with open(rescored_out,'a') as contents:\n",
    "              contents.write(\"########## Name: \" + mol.data['Name'] + '\\n' + \n",
    "                             \"########## Vina_BE: \" + mol.data['Vina_BE'] + '\\n' + \n",
    "                             \"########## MW: \" + str(MW) + '\\n' + \n",
    "                             \"########## clogP: \" + str(clogP) + '\\n' + \n",
    "                             \"########## nonHatoms: \" + str(nonHatoms) + '\\n' + \n",
    "                             \"########## Vina_LE: \" + str(LE) + '\\n' + \n",
    "                             \"########## Vina_LipE: \" + str(LipE) + '\\n' + \n",
    "                             \"########## Close_contacts: \" + str(cc_count) + '\\n' + \n",
    "                             \"########## Hydrophob_contacts: \" + str(hyd_contacts_count) + '\\n' + \n",
    "                             \"########## HBonds: \" + str(hbonds_count) + '\\n' + \n",
    "                             \"########## Salt_Bridges: \" + str(salt_bridges_count) + '\\n' + \n",
    "                             \"########## Pi-Pi_Parallel: \" + pipi_par + '\\n' + \n",
    "                             \"########## Pi-Pi_Perpendicular: \" + pipi_perp + '\\n' + \n",
    "                             \"########## Pi-Cation: \" + str(pi_cation_count) + '\\n' + \n",
    "                             \"########## Halogen_Bonds: \" + str(halogenbonds_count) + '\\n' + \n",
    "                             \"########## RFScore_v3: \" + str(round(float(mol.data['rfscore_v3']),3)) + '\\n' +\n",
    "                             \"########## NNScore: \" + str(round(float(mol.data['nnscore']),3)) + '\\n' + \n",
    "                             \"########## PLECScore_rf: \" + str(round(float(mol.data['PLECrf_p5_l1_s65536']),3)) + '\\n' + \n",
    "                             write_out)\n",
    "        contents.close()"
   ]
  },
  {
   "cell_type": "markdown",
   "metadata": {},
   "source": [
    "The next cell executes the rescoring function using parallel processing on your machine. The parallelisation is achieved by rescoring each protein conformer on a separate processor until they are all complete. This is possible because the rescoring of each protein conformer is independent of every other; such processes are called *embarrassingly parallel*. However, you may see that the protein conformers appear in an unexpected order as each parallel calculation is launched - **DON'T PANIC**!"
   ]
  },
  {
   "cell_type": "code",
   "execution_count": 8,
   "metadata": {},
   "outputs": [
    {
     "name": "stdout",
     "output_type": "stream",
     "text": [
      "\u001b[1m\u001b[32mProtein:VinaResults_7rdx_prep\n",
      "\u001b[0m\u001b[1m\u001b[32mProtein:VinaResults_7rdy_prep\n",
      "\u001b[0m\u001b[1m\u001b[32mProtein:VinaResults_6zsl_prep\n",
      "\u001b[0m\u001b[1m\u001b[32mProtein:VinaResults_5rlh_b\n",
      "\u001b[0m\n",
      "\n",
      "\n",
      "\n"
     ]
    }
   ],
   "source": [
    "\n",
    "#Here we run the script that executes the docking procedure for our ligand list...\n",
    "#We limit the number of processors because the memory demand of each thread is quite high...\n",
    "#The memory requirement depends on how many ligands you have docked, so it may be best to use a fraction of your available CPU initially.\n",
    "pool = mp.Pool(num_cpu)\n",
    "pool.map(rescoring_function, [results_filename for results_filename in results_filenames])\n",
    "pool.close()"
   ]
  },
  {
   "cell_type": "code",
   "execution_count": 9,
   "metadata": {},
   "outputs": [],
   "source": [
    "#Write sdf files for use in DataWarrior etc.\n",
    "mol2_files = glob('MTH_Results_Rescored/VinaResults_*.mol2')\n",
    "#print(len(mol2_files))\n",
    "for mol2_file in mol2_files:\n",
    "    mol2_prefix = mol2_file.split(\".\")[0]\n",
    "    sdf_out = mol2_prefix + '.sdf'\n",
    "    mols = list(oddt.toolkit.readfile('mol2', mol2_file))\n",
    "    with open (sdf_out, 'w') as contents:\n",
    "        for mol in mols:\n",
    "            sdf = mol.write('sdf')\n",
    "            with open (sdf_out, 'a') as contents:\n",
    "                contents.write(sdf)\n",
    "    contents.close()\n",
    " "
   ]
  },
  {
   "cell_type": "markdown",
   "metadata": {},
   "source": [
    "# What to do next\n",
    "Your new Treasure Hunt results are stored in the MTH_Results_Rescored folder (unless you renamed it). You have a set of .mol2 files and .sdf files for each protein conformer. These have a VinaResults prefix. They contain the docked poses of all of your ligands in your library for each separate protein receptor configuration and the scores, and interactions.\n",
    "\n",
    "You should move the folder that contains your results back to your own computer (if necessary) so that you can analyse them using using this Jupyter notebook and Chimera (for the .mol2 files), DataWarrior (.sdf files) or Pymol (.mol2 or .sdf files) at your leisure!\n",
    "\n",
    "## Opening the results in Chimera:\n",
    "- File > Open > Choose the correct protein/receptor .pdb file (you should have these files on your own computer from when you aligned the proteins in Part 1) this will have the same 'number' as the ligand .mol2 file, e.g. if you load in VinaResultsxxx00.mol2 then the protein file would be proteinxxx00.pdb.\n",
    "\n",
    "- Tools > Surface/Binding Analysis > ViewDock > Choose the VinaResultsxxx.mol2 file (the file is a Dock 4,5,6 file type)\n",
    "\n",
    "- This opens a new window. You can select columns to view from the Columns > Show menu and pick the Vina_BE or other scoring/properties lists.\n",
    "\n",
    "- You can scroll through the ligands in the list and examine how they interact with the protein.\n",
    "\n",
    "- The presets menu allows you to view the protein as a surface coloured by hydrophbicity.\n",
    "\n",
    "- The Chimera menus provide a number of other ways to adapt the representation.\n",
    "\n",
    "\n",
    "## Opening the results in DataWarrior or Pymol:\n",
    "- The .sdf files can be viewed in pymol, and in DataWarrior, where you can explore the chemoinformatics of your results (if that is your thing!!). "
   ]
  },
  {
   "cell_type": "markdown",
   "metadata": {},
   "source": [
    "# Congratulations!!!\n",
    "\n",
    "\"*since every piece of matter in the Universe is affected by every other piece of matter in the Universe, it is in theory possible to extrapolate the whole of creation*\"\n",
    "\n",
    "You are now ready for the next stage - have fun!\n",
    "\n",
    "Sarah and Geoff\n",
    "\n",
    "(an \"out-of-office\" $O^{3}P$ production)"
   ]
  }
 ],
 "metadata": {
  "kernelspec": {
   "display_name": "Python 3 (ipykernel)",
   "language": "python",
   "name": "python3"
  },
  "language_info": {
   "codemirror_mode": {
    "name": "ipython",
    "version": 3
   },
   "file_extension": ".py",
   "mimetype": "text/x-python",
   "name": "python",
   "nbconvert_exporter": "python",
   "pygments_lexer": "ipython3",
   "version": "3.8.13"
  }
 },
 "nbformat": 4,
 "nbformat_minor": 4
}
